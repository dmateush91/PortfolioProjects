{
 "cells": [
  {
   "cell_type": "code",
   "execution_count": 1,
   "metadata": {},
   "outputs": [],
   "source": [
    "import os\n",
    "\n",
    "# Set spark environments\n",
    "os.environ['PYSPARK_PYTHON'] = 'C:\\\\Users\\\\dmate\\\\Anaconda3\\\\python.exe'\n",
    "os.environ['PYSPARK_DRIVER_PYTHON'] = 'C:\\\\Users\\\\dmate\\\\Anaconda3\\\\python.exe'"
   ]
  },
  {
   "cell_type": "code",
   "execution_count": 2,
   "metadata": {},
   "outputs": [],
   "source": [
    "from pyspark.sql import SparkSession\n",
    "from pyspark.sql import functions as func\n",
    "from pyspark.sql.types import StructType, StructField, StringType, IntegerType, FloatType, LongType"
   ]
  },
  {
   "cell_type": "code",
   "execution_count": 3,
   "metadata": {},
   "outputs": [],
   "source": [
    "spark = SparkSession.builder.appName(\"GooglePlayAnalytics\").getOrCreate()"
   ]
  },
  {
   "cell_type": "code",
   "execution_count": 4,
   "metadata": {},
   "outputs": [],
   "source": [
    "schema = StructType([\n",
    "    StructField(\"App\", StringType(), True),\n",
    "    StructField(\"Category\", StringType(), True),\n",
    "    StructField(\"Rating\", FloatType(), True),\n",
    "    StructField(\"Reviews\", IntegerType(), True),\n",
    "    StructField(\"Size\", StringType(), True),\n",
    "    StructField(\"Installs\", StringType(), True),\n",
    "    StructField(\"Type\", StringType(), True),\n",
    "    StructField(\"Price\", FloatType(), True),\n",
    "    StructField(\"ContentRating\", StringType(), True),\n",
    "    StructField(\"Genre\", StringType(), True),\n",
    "    StructField(\"LastUpdated\", LongType(), True),\n",
    "    StructField(\"CurrentVer\", StringType(), True),\n",
    "    StructField(\"AndroidVer\", StringType(), True)                                \n",
    "])"
   ]
  },
  {
   "cell_type": "code",
   "execution_count": 5,
   "metadata": {},
   "outputs": [],
   "source": [
    "df = spark.read.schema(schema).option(\"header\", \"true\")\\\n",
    ".csv(\"C:\\\\Users\\\\dmate\\\\Desktop\\\\Sample DataSets\\\\GooglePlayStore\\\\GooglePlayStore.csv\")"
   ]
  },
  {
   "cell_type": "code",
   "execution_count": 6,
   "metadata": {},
   "outputs": [
    {
     "name": "stdout",
     "output_type": "stream",
     "text": [
      "root\n",
      " |-- App: string (nullable = true)\n",
      " |-- Category: string (nullable = true)\n",
      " |-- Rating: float (nullable = true)\n",
      " |-- Reviews: integer (nullable = true)\n",
      " |-- Size: string (nullable = true)\n",
      " |-- Installs: string (nullable = true)\n",
      " |-- Type: string (nullable = true)\n",
      " |-- Price: float (nullable = true)\n",
      " |-- ContentRating: string (nullable = true)\n",
      " |-- Genre: string (nullable = true)\n",
      " |-- LastUpdated: long (nullable = true)\n",
      " |-- CurrentVer: string (nullable = true)\n",
      " |-- AndroidVer: string (nullable = true)\n",
      "\n"
     ]
    }
   ],
   "source": [
    "df.printSchema()"
   ]
  },
  {
   "cell_type": "code",
   "execution_count": 7,
   "metadata": {},
   "outputs": [],
   "source": [
    "categoryGroup = df.select(\"App\", \"Category\", \"Type\")\\\n",
    ".filter(~df.Category.isin(\"traffic jams\", \"1.9\", \"Face\"))\\\n",
    ".groupBy(\"Category\").agg(func.count(\"Category\").alias(\"Quantity\")).orderBy(func.desc(\"Quantity\"))"
   ]
  },
  {
   "cell_type": "markdown",
   "metadata": {},
   "source": [
    "__Quantity of Phone Apps Per Category__"
   ]
  },
  {
   "cell_type": "code",
   "execution_count": 8,
   "metadata": {},
   "outputs": [
    {
     "name": "stdout",
     "output_type": "stream",
     "text": [
      "+-------------------+--------+\n",
      "|           Category|Quantity|\n",
      "+-------------------+--------+\n",
      "|             FAMILY|    1972|\n",
      "|               GAME|    1144|\n",
      "|              TOOLS|     843|\n",
      "|            MEDICAL|     463|\n",
      "|           BUSINESS|     460|\n",
      "|       PRODUCTIVITY|     424|\n",
      "|    PERSONALIZATION|     392|\n",
      "|      COMMUNICATION|     387|\n",
      "|             SPORTS|     384|\n",
      "|          LIFESTYLE|     382|\n",
      "|            FINANCE|     366|\n",
      "| HEALTH_AND_FITNESS|     340|\n",
      "|        PHOTOGRAPHY|     335|\n",
      "|             SOCIAL|     295|\n",
      "| NEWS_AND_MAGAZINES|     283|\n",
      "|           SHOPPING|     260|\n",
      "|   TRAVEL_AND_LOCAL|     258|\n",
      "|             DATING|     234|\n",
      "|BOOKS_AND_REFERENCE|     231|\n",
      "|      VIDEO_PLAYERS|     175|\n",
      "+-------------------+--------+\n",
      "only showing top 20 rows\n",
      "\n"
     ]
    }
   ],
   "source": [
    "categoryGroup.show()"
   ]
  },
  {
   "cell_type": "code",
   "execution_count": 9,
   "metadata": {},
   "outputs": [],
   "source": [
    "priceGroup = df.select(\"App\", \"Price\", \"Genre\", \"Type\")\\\n",
    ".filter(df.Type == 'Paid')\\\n",
    ".groupBy(\"Genre\").agg(func.round(func.avg(\"Price\"),2).alias(\"AveragePrice\"))\\\n",
    ".orderBy(func.desc(\"AveragePrice\"))"
   ]
  },
  {
   "cell_type": "markdown",
   "metadata": {},
   "source": [
    "__The Average Price of an App Per Genre__"
   ]
  },
  {
   "cell_type": "code",
   "execution_count": 10,
   "metadata": {},
   "outputs": [
    {
     "name": "stdout",
     "output_type": "stream",
     "text": [
      "+--------------------+------------+\n",
      "|               Genre|AveragePrice|\n",
      "+--------------------+------------+\n",
      "|             Finance|      170.64|\n",
      "|           Lifestyle|      124.26|\n",
      "|              Events|      109.99|\n",
      "|       Entertainment|       87.64|\n",
      "|              Casino|        14.0|\n",
      "|            Business|       13.23|\n",
      "|             Medical|       13.21|\n",
      "|        Productivity|        8.96|\n",
      "|        Role Playing|        8.25|\n",
      "|           Education|        6.63|\n",
      "|         Photography|         6.1|\n",
      "|   Maps & Navigation|        5.39|\n",
      "|              Social|        5.32|\n",
      "|          Simulation|        5.21|\n",
      "|Adventure;Action ...|        4.99|\n",
      "|           Parenting|        4.79|\n",
      "|              Dating|        4.49|\n",
      "|     Auto & Vehicles|        4.49|\n",
      "|           Adventure|        4.49|\n",
      "|Educational;Educa...|        4.36|\n",
      "+--------------------+------------+\n",
      "only showing top 20 rows\n",
      "\n"
     ]
    }
   ],
   "source": [
    "priceGroup.show()"
   ]
  },
  {
   "cell_type": "code",
   "execution_count": 31,
   "metadata": {},
   "outputs": [],
   "source": [
    "ratingGroup = df.select(\"App\", \"Rating\", \"Genre\")\\\n",
    ".filter(df.Genre != \"Free\").filter(df.Rating != \"NaN\").groupBy(\"Genre\")\\\n",
    ".agg(func.round(func.avg(\"Rating\"),2).alias(\"AverageRating\"))\\\n",
    ".orderBy(func.desc(\"AverageRating\"))"
   ]
  },
  {
   "cell_type": "markdown",
   "metadata": {},
   "source": [
    "__Average App Ratings Per Genre__"
   ]
  },
  {
   "cell_type": "code",
   "execution_count": 32,
   "metadata": {},
   "outputs": [
    {
     "name": "stdout",
     "output_type": "stream",
     "text": [
      "+--------------------+-------------+\n",
      "|               Genre|AverageRating|\n",
      "+--------------------+-------------+\n",
      "|   Comics;Creativity|          4.8|\n",
      "|  Board;Pretend Play|          4.8|\n",
      "|Health & Fitness;...|          4.7|\n",
      "|Adventure;Brain G...|          4.6|\n",
      "|    Puzzle;Education|          4.6|\n",
      "|Strategy;Action &...|          4.6|\n",
      "|Entertainment;Cre...|         4.53|\n",
      "| Music;Music & Video|         4.53|\n",
      "|  Strategy;Education|          4.5|\n",
      "| Arcade;Pretend Play|          4.5|\n",
      "|     Tools;Education|          4.5|\n",
      "| Racing;Pretend Play|          4.5|\n",
      "|  Casual;Brain Games|         4.47|\n",
      "|              Events|         4.44|\n",
      "|Education;Brain G...|         4.43|\n",
      "|Adventure;Action ...|         4.42|\n",
      "|Simulation;Action...|         4.42|\n",
      "|                Word|         4.41|\n",
      "|Art & Design;Crea...|          4.4|\n",
      "|   Puzzle;Creativity|          4.4|\n",
      "+--------------------+-------------+\n",
      "only showing top 20 rows\n",
      "\n"
     ]
    }
   ],
   "source": [
    "ratingGroup.show()"
   ]
  },
  {
   "cell_type": "code",
   "execution_count": 33,
   "metadata": {},
   "outputs": [],
   "source": [
    "ratingMaxGroup = df.select(\"App\", \"Rating\", \"Genre\")\\\n",
    ".filter(df.Genre != \"Free\").filter(df.Rating != \"NaN\").groupBy(\"Genre\")\\\n",
    ".agg(func.round(func.max(\"Rating\"),2).alias(\"MaxRating\")).orderBy(func.desc(\"MaxRating\"))"
   ]
  },
  {
   "cell_type": "markdown",
   "metadata": {},
   "source": [
    "__Max App Rating Per Genre__"
   ]
  },
  {
   "cell_type": "code",
   "execution_count": 34,
   "metadata": {},
   "outputs": [
    {
     "name": "stdout",
     "output_type": "stream",
     "text": [
      "+-----------------+---------+\n",
      "|            Genre|MaxRating|\n",
      "+-----------------+---------+\n",
      "|            Tools|      5.0|\n",
      "|           Dating|      5.0|\n",
      "|           Comics|      5.0|\n",
      "|           Social|      5.0|\n",
      "|           Trivia|      5.0|\n",
      "|Books & Reference|      5.0|\n",
      "|    Entertainment|      5.0|\n",
      "| Libraries & Demo|      5.0|\n",
      "|           Arcade|      5.0|\n",
      "|         Shopping|      5.0|\n",
      "|   Travel & Local|      5.0|\n",
      "| Health & Fitness|      5.0|\n",
      "|          Finance|      5.0|\n",
      "|     Productivity|      5.0|\n",
      "|           Racing|      5.0|\n",
      "|      Photography|      5.0|\n",
      "| News & Magazines|      5.0|\n",
      "|           Events|      5.0|\n",
      "|           Sports|      5.0|\n",
      "|        Lifestyle|      5.0|\n",
      "+-----------------+---------+\n",
      "only showing top 20 rows\n",
      "\n"
     ]
    }
   ],
   "source": [
    "ratingMaxGroup.show()"
   ]
  },
  {
   "cell_type": "code",
   "execution_count": 35,
   "metadata": {},
   "outputs": [],
   "source": [
    "reviewGroup = df.select(\"App\", \"Reviews\", \"ContentRating\")\\\n",
    ".filter(~df.ContentRating.isin(\"5,000,000+\", \"1,000,000+\")).groupBy(\"ContentRating\")\\\n",
    ".agg(func.round(func.sum(\"Reviews\"),2).alias(\"SumReviews\")).orderBy(func.desc(\"SumReviews\"))"
   ]
  },
  {
   "cell_type": "markdown",
   "metadata": {},
   "source": [
    "__Total Quantity of Reviews Per Content Rating__"
   ]
  },
  {
   "cell_type": "code",
   "execution_count": 36,
   "metadata": {},
   "outputs": [
    {
     "name": "stdout",
     "output_type": "stream",
     "text": [
      "+---------------+----------+\n",
      "|  ContentRating|SumReviews|\n",
      "+---------------+----------+\n",
      "|       Everyone|2801745128|\n",
      "|           Teen|1131523721|\n",
      "|   Everyone 10+| 683997228|\n",
      "|     Mature 17+| 197164024|\n",
      "|Adults only 18+|     81348|\n",
      "|        Unrated|      1187|\n",
      "+---------------+----------+\n",
      "\n"
     ]
    }
   ],
   "source": [
    "reviewGroup.show()"
   ]
  }
 ],
 "metadata": {
  "kernelspec": {
   "display_name": "Python 3",
   "language": "python",
   "name": "python3"
  },
  "language_info": {
   "codemirror_mode": {
    "name": "ipython",
    "version": 3
   },
   "file_extension": ".py",
   "mimetype": "text/x-python",
   "name": "python",
   "nbconvert_exporter": "python",
   "pygments_lexer": "ipython3",
   "version": "3.7.4"
  }
 },
 "nbformat": 4,
 "nbformat_minor": 2
}
