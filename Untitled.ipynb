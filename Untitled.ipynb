{
 "cells": [
  {
   "cell_type": "code",
   "execution_count": 1,
   "id": "368033e9",
   "metadata": {},
   "outputs": [],
   "source": [
    "from pyspark.sql import SparkSession\n",
    "from pyspark.sql import functions as func\n",
    "from pyspark.sql.types import StructType, StructField, StringType, IntegerType, FloatType, LongType"
   ]
  },
  {
   "cell_type": "code",
   "execution_count": 2,
   "id": "15ba2ca6",
   "metadata": {},
   "outputs": [],
   "source": [
    "csv = spark.read.csv('CourseFiles/Latest_Data_Science_Salaries.csv', header = True, inferSchema = True)"
   ]
  },
  {
   "cell_type": "code",
   "execution_count": 3,
   "id": "c5576bba",
   "metadata": {},
   "outputs": [
    {
     "data": {
      "text/plain": [
       "['Job Title',\n",
       " 'Employment Type',\n",
       " 'Experience Level',\n",
       " 'Expertise Level',\n",
       " 'Salary',\n",
       " 'Salary Currency',\n",
       " 'Company Location',\n",
       " 'Salary in USD',\n",
       " 'Employee Residence',\n",
       " 'Company Size',\n",
       " 'Year']"
      ]
     },
     "execution_count": 3,
     "metadata": {},
     "output_type": "execute_result"
    }
   ],
   "source": [
    "csv.columns"
   ]
  },
  {
   "cell_type": "code",
   "execution_count": 4,
   "id": "ea2ec18e",
   "metadata": {},
   "outputs": [],
   "source": [
    "csv.createOrReplaceTempView(\"DataScienceSalaries\")"
   ]
  },
  {
   "cell_type": "code",
   "execution_count": 5,
   "id": "d3259003",
   "metadata": {},
   "outputs": [
    {
     "name": "stdout",
     "output_type": "stream",
     "text": [
      "+--------------+--------------------+\n",
      "|       Country|Average USD Salaries|\n",
      "+--------------+--------------------+\n",
      "| United States|  168786.66101694916|\n",
      "|       Germany|            141479.0|\n",
      "|United Kingdom|            129320.0|\n",
      "|        Canada|            127500.0|\n",
      "|       Ireland|            102569.0|\n",
      "|        Sweden|             86374.0|\n",
      "|      Colombia|             66000.0|\n",
      "|     Argentina|             65000.0|\n",
      "|      Portugal|             53983.5|\n",
      "|       Estonia|             50529.0|\n",
      "+--------------+--------------------+\n",
      "\n"
     ]
    }
   ],
   "source": [
    "csv.select('Job Title', 'Employment Type', 'Year', 'Company Location', 'Salary in USD')\\\n",
    ".filter(csv['Job Title'] == 'Data Engineer')\\\n",
    ".filter(csv.Year == '2023')\\\n",
    ".filter(csv['Experience Level'] == 'Senior')\\\n",
    ".groupBy(csv['Company Location'])\\\n",
    ".agg(func.mean(csv['Salary in USD']).alias('Average USD Salaries'))\\\n",
    ".orderBy(func.desc('Average USD Salaries'))\\\n",
    ".withColumnRenamed('Company Location', 'Country')\\\n",
    ".show()"
   ]
  },
  {
   "cell_type": "code",
   "execution_count": 6,
   "id": "536cccbb",
   "metadata": {},
   "outputs": [
    {
     "data": {
      "text/plain": [
       "702"
      ]
     },
     "execution_count": 6,
     "metadata": {},
     "output_type": "execute_result"
    }
   ],
   "source": [
    "csv.filter(csv['Job Title'] == 'Data Engineer').count()"
   ]
  },
  {
   "cell_type": "code",
   "execution_count": 7,
   "id": "33f9e880",
   "metadata": {},
   "outputs": [
    {
     "name": "stdout",
     "output_type": "stream",
     "text": [
      "+--------------------+------------------+\n",
      "|           Job Title|  Average Salaries|\n",
      "+--------------------+------------------+\n",
      "|Analytics Enginee...|          399880.0|\n",
      "|Data Science Tech...|          375000.0|\n",
      "|Managing Director...|          300000.0|\n",
      "|  AWS Data Architect|          258000.0|\n",
      "|Cloud Data Architect|          250000.0|\n",
      "|        AI Architect|          237484.0|\n",
      "| Data Analytics Lead|          211255.5|\n",
      "|Director of Data ...|209800.31578947368|\n",
      "|Principal Data Sc...|193988.44444444444|\n",
      "|Principal Data En...|          192500.0|\n",
      "|Machine Learning ...|189538.76923076922|\n",
      "|         ML Engineer|188072.42372881356|\n",
      "|Data Science Manager|186074.05084745763|\n",
      "|Staff Machine Lea...|          185000.0|\n",
      "|Head of Data Science|182629.63636363635|\n",
      "|        Head of Data|          181454.4|\n",
      "|   Applied Scientist|  180935.306122449|\n",
      "|   Research Engineer|176613.52631578947|\n",
      "|Business Intellig...|          175522.5|\n",
      "|Machine Learning ...|         173787.35|\n",
      "+--------------------+------------------+\n",
      "only showing top 20 rows\n",
      "\n"
     ]
    }
   ],
   "source": [
    "csv.groupBy(csv['Job Title']).agg(func.mean(csv['Salary in USD']).alias('Average Salaries'))\\\n",
    ".orderBy(func.desc('Average Salaries')).show()"
   ]
  },
  {
   "cell_type": "code",
   "execution_count": 9,
   "id": "e63809a5",
   "metadata": {},
   "outputs": [],
   "source": [
    "import pandas as pd"
   ]
  },
  {
   "cell_type": "code",
   "execution_count": 11,
   "id": "ab2b8567",
   "metadata": {},
   "outputs": [],
   "source": [
    "df = csv.toPandas()"
   ]
  },
  {
   "cell_type": "code",
   "execution_count": 12,
   "id": "8b78cac4",
   "metadata": {},
   "outputs": [
    {
     "data": {
      "text/html": [
       "<div>\n",
       "<style scoped>\n",
       "    .dataframe tbody tr th:only-of-type {\n",
       "        vertical-align: middle;\n",
       "    }\n",
       "\n",
       "    .dataframe tbody tr th {\n",
       "        vertical-align: top;\n",
       "    }\n",
       "\n",
       "    .dataframe thead th {\n",
       "        text-align: right;\n",
       "    }\n",
       "</style>\n",
       "<table border=\"1\" class=\"dataframe\">\n",
       "  <thead>\n",
       "    <tr style=\"text-align: right;\">\n",
       "      <th></th>\n",
       "      <th>Job Title</th>\n",
       "      <th>Employment Type</th>\n",
       "      <th>Experience Level</th>\n",
       "      <th>Expertise Level</th>\n",
       "      <th>Salary</th>\n",
       "      <th>Salary Currency</th>\n",
       "      <th>Company Location</th>\n",
       "      <th>Salary in USD</th>\n",
       "      <th>Employee Residence</th>\n",
       "      <th>Company Size</th>\n",
       "      <th>Year</th>\n",
       "    </tr>\n",
       "  </thead>\n",
       "  <tbody>\n",
       "    <tr>\n",
       "      <th>0</th>\n",
       "      <td>Data Engineer</td>\n",
       "      <td>Full-Time</td>\n",
       "      <td>Senior</td>\n",
       "      <td>Expert</td>\n",
       "      <td>210000</td>\n",
       "      <td>United States Dollar</td>\n",
       "      <td>United States</td>\n",
       "      <td>210000</td>\n",
       "      <td>United States</td>\n",
       "      <td>Medium</td>\n",
       "      <td>2023</td>\n",
       "    </tr>\n",
       "    <tr>\n",
       "      <th>1</th>\n",
       "      <td>Data Engineer</td>\n",
       "      <td>Full-Time</td>\n",
       "      <td>Senior</td>\n",
       "      <td>Expert</td>\n",
       "      <td>165000</td>\n",
       "      <td>United States Dollar</td>\n",
       "      <td>United States</td>\n",
       "      <td>165000</td>\n",
       "      <td>United States</td>\n",
       "      <td>Medium</td>\n",
       "      <td>2023</td>\n",
       "    </tr>\n",
       "    <tr>\n",
       "      <th>2</th>\n",
       "      <td>Data Engineer</td>\n",
       "      <td>Full-Time</td>\n",
       "      <td>Senior</td>\n",
       "      <td>Expert</td>\n",
       "      <td>185900</td>\n",
       "      <td>United States Dollar</td>\n",
       "      <td>United States</td>\n",
       "      <td>185900</td>\n",
       "      <td>United States</td>\n",
       "      <td>Medium</td>\n",
       "      <td>2023</td>\n",
       "    </tr>\n",
       "    <tr>\n",
       "      <th>3</th>\n",
       "      <td>Data Engineer</td>\n",
       "      <td>Full-Time</td>\n",
       "      <td>Senior</td>\n",
       "      <td>Expert</td>\n",
       "      <td>129300</td>\n",
       "      <td>United States Dollar</td>\n",
       "      <td>United States</td>\n",
       "      <td>129300</td>\n",
       "      <td>United States</td>\n",
       "      <td>Medium</td>\n",
       "      <td>2023</td>\n",
       "    </tr>\n",
       "    <tr>\n",
       "      <th>4</th>\n",
       "      <td>Data Scientist</td>\n",
       "      <td>Full-Time</td>\n",
       "      <td>Senior</td>\n",
       "      <td>Expert</td>\n",
       "      <td>140000</td>\n",
       "      <td>United States Dollar</td>\n",
       "      <td>United States</td>\n",
       "      <td>140000</td>\n",
       "      <td>United States</td>\n",
       "      <td>Medium</td>\n",
       "      <td>2023</td>\n",
       "    </tr>\n",
       "  </tbody>\n",
       "</table>\n",
       "</div>"
      ],
      "text/plain": [
       "        Job Title Employment Type Experience Level Expertise Level  Salary  \\\n",
       "0   Data Engineer       Full-Time           Senior          Expert  210000   \n",
       "1   Data Engineer       Full-Time           Senior          Expert  165000   \n",
       "2   Data Engineer       Full-Time           Senior          Expert  185900   \n",
       "3   Data Engineer       Full-Time           Senior          Expert  129300   \n",
       "4  Data Scientist       Full-Time           Senior          Expert  140000   \n",
       "\n",
       "        Salary Currency Company Location  Salary in USD Employee Residence  \\\n",
       "0  United States Dollar    United States         210000      United States   \n",
       "1  United States Dollar    United States         165000      United States   \n",
       "2  United States Dollar    United States         185900      United States   \n",
       "3  United States Dollar    United States         129300      United States   \n",
       "4  United States Dollar    United States         140000      United States   \n",
       "\n",
       "  Company Size  Year  \n",
       "0       Medium  2023  \n",
       "1       Medium  2023  \n",
       "2       Medium  2023  \n",
       "3       Medium  2023  \n",
       "4       Medium  2023  "
      ]
     },
     "execution_count": 12,
     "metadata": {},
     "output_type": "execute_result"
    }
   ],
   "source": [
    "df.head()"
   ]
  },
  {
   "cell_type": "code",
   "execution_count": 13,
   "id": "40f4e55c",
   "metadata": {},
   "outputs": [
    {
     "data": {
      "text/html": [
       "<div>\n",
       "<style scoped>\n",
       "    .dataframe tbody tr th:only-of-type {\n",
       "        vertical-align: middle;\n",
       "    }\n",
       "\n",
       "    .dataframe tbody tr th {\n",
       "        vertical-align: top;\n",
       "    }\n",
       "\n",
       "    .dataframe thead th {\n",
       "        text-align: right;\n",
       "    }\n",
       "</style>\n",
       "<table border=\"1\" class=\"dataframe\">\n",
       "  <thead>\n",
       "    <tr style=\"text-align: right;\">\n",
       "      <th></th>\n",
       "      <th>Salary</th>\n",
       "      <th>Salary in USD</th>\n",
       "      <th>Year</th>\n",
       "    </tr>\n",
       "  </thead>\n",
       "  <tbody>\n",
       "    <tr>\n",
       "      <th>count</th>\n",
       "      <td>3.300000e+03</td>\n",
       "      <td>3300.000000</td>\n",
       "      <td>3300.000000</td>\n",
       "    </tr>\n",
       "    <tr>\n",
       "      <th>mean</th>\n",
       "      <td>2.046623e+05</td>\n",
       "      <td>142095.983939</td>\n",
       "      <td>2022.495455</td>\n",
       "    </tr>\n",
       "    <tr>\n",
       "      <th>std</th>\n",
       "      <td>7.279383e+05</td>\n",
       "      <td>69028.235512</td>\n",
       "      <td>0.716355</td>\n",
       "    </tr>\n",
       "    <tr>\n",
       "      <th>min</th>\n",
       "      <td>1.400000e+04</td>\n",
       "      <td>15000.000000</td>\n",
       "      <td>2020.000000</td>\n",
       "    </tr>\n",
       "    <tr>\n",
       "      <th>25%</th>\n",
       "      <td>9.416900e+04</td>\n",
       "      <td>90000.000000</td>\n",
       "      <td>2022.000000</td>\n",
       "    </tr>\n",
       "    <tr>\n",
       "      <th>50%</th>\n",
       "      <td>1.400000e+05</td>\n",
       "      <td>136000.000000</td>\n",
       "      <td>2023.000000</td>\n",
       "    </tr>\n",
       "    <tr>\n",
       "      <th>75%</th>\n",
       "      <td>1.900000e+05</td>\n",
       "      <td>185000.000000</td>\n",
       "      <td>2023.000000</td>\n",
       "    </tr>\n",
       "    <tr>\n",
       "      <th>max</th>\n",
       "      <td>3.040000e+07</td>\n",
       "      <td>450000.000000</td>\n",
       "      <td>2023.000000</td>\n",
       "    </tr>\n",
       "  </tbody>\n",
       "</table>\n",
       "</div>"
      ],
      "text/plain": [
       "             Salary  Salary in USD         Year\n",
       "count  3.300000e+03    3300.000000  3300.000000\n",
       "mean   2.046623e+05  142095.983939  2022.495455\n",
       "std    7.279383e+05   69028.235512     0.716355\n",
       "min    1.400000e+04   15000.000000  2020.000000\n",
       "25%    9.416900e+04   90000.000000  2022.000000\n",
       "50%    1.400000e+05  136000.000000  2023.000000\n",
       "75%    1.900000e+05  185000.000000  2023.000000\n",
       "max    3.040000e+07  450000.000000  2023.000000"
      ]
     },
     "execution_count": 13,
     "metadata": {},
     "output_type": "execute_result"
    }
   ],
   "source": [
    "df.describe()"
   ]
  },
  {
   "cell_type": "code",
   "execution_count": 14,
   "id": "12419654",
   "metadata": {},
   "outputs": [
    {
     "name": "stdout",
     "output_type": "stream",
     "text": [
      "<class 'pandas.core.frame.DataFrame'>\n",
      "RangeIndex: 3300 entries, 0 to 3299\n",
      "Data columns (total 11 columns):\n",
      " #   Column              Non-Null Count  Dtype \n",
      "---  ------              --------------  ----- \n",
      " 0   Job Title           3300 non-null   object\n",
      " 1   Employment Type     3300 non-null   object\n",
      " 2   Experience Level    3300 non-null   object\n",
      " 3   Expertise Level     3300 non-null   object\n",
      " 4   Salary              3300 non-null   int32 \n",
      " 5   Salary Currency     3300 non-null   object\n",
      " 6   Company Location    3300 non-null   object\n",
      " 7   Salary in USD       3300 non-null   int32 \n",
      " 8   Employee Residence  3300 non-null   object\n",
      " 9   Company Size        3300 non-null   object\n",
      " 10  Year                3300 non-null   int32 \n",
      "dtypes: int32(3), object(8)\n",
      "memory usage: 245.0+ KB\n"
     ]
    }
   ],
   "source": [
    "df.info()"
   ]
  },
  {
   "cell_type": "code",
   "execution_count": null,
   "id": "97d3e922",
   "metadata": {},
   "outputs": [],
   "source": []
  }
 ],
 "metadata": {
  "kernelspec": {
   "display_name": "Python 3 (ipykernel)",
   "language": "python",
   "name": "python3"
  },
  "language_info": {
   "codemirror_mode": {
    "name": "ipython",
    "version": 3
   },
   "file_extension": ".py",
   "mimetype": "text/x-python",
   "name": "python",
   "nbconvert_exporter": "python",
   "pygments_lexer": "ipython3",
   "version": "3.10.9"
  }
 },
 "nbformat": 4,
 "nbformat_minor": 5
}
