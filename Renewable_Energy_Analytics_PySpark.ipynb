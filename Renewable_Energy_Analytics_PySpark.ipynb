{
 "cells": [
  {
   "cell_type": "code",
   "execution_count": 2,
   "id": "4c42f999",
   "metadata": {},
   "outputs": [],
   "source": [
    "from pyspark.sql import SparkSession\n",
    "from pyspark.sql import functions as func\n",
    "from pyspark.sql.types import StructType, StructField, StringType, IntegerType, FloatType, LongType"
   ]
  },
  {
   "cell_type": "code",
   "execution_count": 99,
   "id": "f45badd3",
   "metadata": {},
   "outputs": [],
   "source": [
    "from pyspark.sql.window import Window as w"
   ]
  },
  {
   "cell_type": "code",
   "execution_count": 3,
   "id": "69146912",
   "metadata": {},
   "outputs": [],
   "source": [
    "spark = SparkSession.builder.appName('Renewal Energy').getOrCreate()"
   ]
  },
  {
   "cell_type": "code",
   "execution_count": 54,
   "id": "dfae4d20",
   "metadata": {},
   "outputs": [],
   "source": [
    "schema = StructType([\\\n",
    "    StructField('COUNTRY CODE', StringType(), True),\\\n",
    "    StructField('INDICATOR', StringType(), True),\\\n",
    "    StructField('SUBJECT', StringType(), True),\\\n",
    "    StructField('MEASURE', StringType(), True),\\\n",
    "    StructField('FREQUENCY', StringType(), True),\\\n",
    "    StructField('YEAR', IntegerType(), True),\\\n",
    "    StructField('Value', FloatType(), True),\\\n",
    "    StructField('Flag Codes', StringType(), True)                    \n",
    "])"
   ]
  },
  {
   "cell_type": "code",
   "execution_count": 55,
   "id": "f2595b6a",
   "metadata": {},
   "outputs": [],
   "source": [
    "df = spark.read.schema(schema).csv('renewable_energy.csv', header = True, inferSchema = True)"
   ]
  },
  {
   "cell_type": "code",
   "execution_count": 56,
   "id": "570e7da1",
   "metadata": {},
   "outputs": [
    {
     "name": "stdout",
     "output_type": "stream",
     "text": [
      "root\n",
      " |-- COUNTRY CODE: string (nullable = true)\n",
      " |-- INDICATOR: string (nullable = true)\n",
      " |-- SUBJECT: string (nullable = true)\n",
      " |-- MEASURE: string (nullable = true)\n",
      " |-- FREQUENCY: string (nullable = true)\n",
      " |-- YEAR: integer (nullable = true)\n",
      " |-- Value: float (nullable = true)\n",
      " |-- Flag Codes: string (nullable = true)\n",
      "\n"
     ]
    }
   ],
   "source": [
    "df.printSchema()"
   ]
  },
  {
   "cell_type": "code",
   "execution_count": 58,
   "id": "d7fb4090",
   "metadata": {},
   "outputs": [
    {
     "name": "stdout",
     "output_type": "stream",
     "text": [
      "+-------+------------+---------+-------+----------------+---------+------------------+-----------------+----------+\n",
      "|summary|COUNTRY CODE|INDICATOR|SUBJECT|         MEASURE|FREQUENCY|              YEAR|            Value|Flag Codes|\n",
      "+-------+------------+---------+-------+----------------+---------+------------------+-----------------+----------+\n",
      "|  count|       15904|    15904|  15904|           15904|    15904|             15904|            12017|      3887|\n",
      "|   mean|        NULL|     NULL|   NULL|            NULL|     NULL|            1987.5|13221.08363322194|      NULL|\n",
      "| stddev|        NULL|     NULL|   NULL|            NULL|     NULL|16.163738049041793|92035.01903133834|      NULL|\n",
      "|    min|         AGO|RENEWABLE|    TOT|            KTOE|        A|              1960|              0.0|         L|\n",
      "|    max|         ZWE|RENEWABLE|    TOT|PC_PRYENRGSUPPLY|        A|              2015|        1894018.6|         L|\n",
      "+-------+------------+---------+-------+----------------+---------+------------------+-----------------+----------+\n",
      "\n"
     ]
    }
   ],
   "source": [
    "df.describe().show()"
   ]
  },
  {
   "cell_type": "code",
   "execution_count": 197,
   "id": "fbb0d5fe",
   "metadata": {},
   "outputs": [
    {
     "data": {
      "text/plain": [
       "'Total Number of Rows: 12017'"
      ]
     },
     "execution_count": 197,
     "metadata": {},
     "output_type": "execute_result"
    }
   ],
   "source": [
    "f'Total Number of Rows: {df.count()}'"
   ]
  },
  {
   "cell_type": "code",
   "execution_count": 176,
   "id": "d9809e81",
   "metadata": {},
   "outputs": [],
   "source": [
    "df = df.withColumn('RANK', func.rank().over(w.partitionBy('COUNTRY CODE').orderBy(df['YEAR'].desc())))"
   ]
  },
  {
   "cell_type": "markdown",
   "id": "495ba6d5",
   "metadata": {},
   "source": [
    "__TOTAL PRIMARY ENERGY SUPPLY AMOUNTS FOR MOST RECENT YEAR PER COUNTRY__"
   ]
  },
  {
   "cell_type": "code",
   "execution_count": 198,
   "id": "e5e776b1",
   "metadata": {},
   "outputs": [
    {
     "name": "stdout",
     "output_type": "stream",
     "text": [
      "+------------+----------------+----------------------------------+\n",
      "|COUNTRY CODE|MOST RECENT YEAR|TOTAL PRIMARY ENERGY SUPPLY AMOUNT|\n",
      "+------------+----------------+----------------------------------+\n",
      "|         AGO|            2014|                             51.72|\n",
      "|         ALB|            2014|                             27.29|\n",
      "|         ARE|            2014|                              0.18|\n",
      "|         ARG|            2014|                              8.75|\n",
      "|         ARM|            2014|                              6.95|\n",
      "|         AUS|            2015|                              6.54|\n",
      "|         AUT|            2015|                             29.21|\n",
      "|         AZE|            2014|                              1.63|\n",
      "|         BEL|            2015|                              6.28|\n",
      "|         BEN|            2014|                             53.41|\n",
      "|         BGD|            2014|                             26.23|\n",
      "|         BGR|            2014|                              9.97|\n",
      "|         BHR|            2014|                               0.0|\n",
      "|         BIH|            2014|                              25.6|\n",
      "|         BLR|            2014|                               5.2|\n",
      "|         BOL|            2014|                              14.8|\n",
      "|         BRA|            2014|                             38.58|\n",
      "|         BRN|            2014|                               0.0|\n",
      "|         BWA|            2014|                             19.98|\n",
      "|         CAN|            2015|                             18.24|\n",
      "+------------+----------------+----------------------------------+\n",
      "only showing top 20 rows\n",
      "\n"
     ]
    }
   ],
   "source": [
    "df.select(\\\n",
    "         'COUNTRY CODE',\\\n",
    "          df['YEAR'].alias('MOST RECENT YEAR'),\\\n",
    "          df.Value.alias('TOTAL PRIMARY ENERGY SUPPLY AMOUNT')\\\n",
    "         )\\\n",
    ".filter(df['Value'].isNotNull())\\\n",
    ".filter(df.MEASURE == 'PC_PRYENRGSUPPLY')\\\n",
    ".filter(df['RANK'] == 1)\\\n",
    ".show()"
   ]
  },
  {
   "cell_type": "markdown",
   "id": "e169a106",
   "metadata": {},
   "source": [
    "__KTOE AMOUNTS FOR MOST RECENT YEAR PER COUNTRY__"
   ]
  },
  {
   "cell_type": "code",
   "execution_count": 172,
   "id": "cf959d63",
   "metadata": {},
   "outputs": [
    {
     "name": "stdout",
     "output_type": "stream",
     "text": [
      "+------------+----------------+------------+\n",
      "|COUNTRY CODE|MOST RECENT YEAR|KTOE Amounts|\n",
      "+------------+----------------+------------+\n",
      "|         AGO|            2014|     7588.81|\n",
      "|         ALB|            2014|      637.31|\n",
      "|         ARE|            2014|      124.94|\n",
      "|         ARG|            2014|     7576.15|\n",
      "|         ARM|            2014|      205.54|\n",
      "|         AUS|            2015|     8544.65|\n",
      "|         AUT|            2015|     9594.93|\n",
      "|         AZE|            2014|      234.04|\n",
      "|         BEL|            2015|     3321.58|\n",
      "|         BEN|            2014|      2289.9|\n",
      "|         BGD|            2014|     9291.88|\n",
      "|         BGR|            2014|     1784.59|\n",
      "|         BHR|            2014|         0.0|\n",
      "|         BIH|            2014|     2002.57|\n",
      "|         BLR|            2014|     1443.97|\n",
      "|         BOL|            2014|      1233.4|\n",
      "|         BRA|            2014|   116986.84|\n",
      "|         BRN|            2014|        0.17|\n",
      "|         BWA|            2014|      542.78|\n",
      "|         CAN|            2015|    49703.24|\n",
      "+------------+----------------+------------+\n",
      "only showing top 20 rows\n",
      "\n"
     ]
    }
   ],
   "source": [
    "df.select(\\\n",
    "         'COUNTRY CODE',\\\n",
    "          df['YEAR'].alias('MOST RECENT YEAR'),\\\n",
    "          func.round(df.Value, 2).alias('KTOE Amounts')\\\n",
    "         )\\\n",
    ".filter(df['Value'].isNotNull())\\\n",
    ".filter(df.MEASURE == 'KTOE')\\\n",
    ".filter(df['RANK'] == 1)\\\n",
    ".show()"
   ]
  },
  {
   "cell_type": "code",
   "execution_count": 200,
   "id": "9a8a4eb8",
   "metadata": {},
   "outputs": [],
   "source": [
    "spark.stop()"
   ]
  }
 ],
 "metadata": {
  "kernelspec": {
   "display_name": "Python 3 (ipykernel)",
   "language": "python",
   "name": "python3"
  },
  "language_info": {
   "codemirror_mode": {
    "name": "ipython",
    "version": 3
   },
   "file_extension": ".py",
   "mimetype": "text/x-python",
   "name": "python",
   "nbconvert_exporter": "python",
   "pygments_lexer": "ipython3",
   "version": "3.11.5"
  }
 },
 "nbformat": 4,
 "nbformat_minor": 5
}
