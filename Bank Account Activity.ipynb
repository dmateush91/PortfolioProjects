{
 "cells": [
  {
   "cell_type": "markdown",
   "metadata": {},
   "source": [
    "Engineered the ability to create bank accounts for account owners.\n",
    "\n",
    "You have the ability to transfer money to another account owner, if your bank account has the sufficient funds.\n",
    "\n",
    "You have the ability to withdraw money from your account, if your bank account has the sufficient funds.\n",
    "\n",
    "You have the ability to deposit money into your account."
   ]
  },
  {
   "cell_type": "code",
   "execution_count": 278,
   "metadata": {},
   "outputs": [],
   "source": [
    "class bank_account_info():\n",
    "    \n",
    "    def __init__(self, first_name, last_name, street_address, city, state, zip_code, balance, sex):\n",
    "        \n",
    "        self.first_name = first_name\n",
    "        self.last_name = last_name\n",
    "        self.street_address = street_address\n",
    "        self.city = city\n",
    "        self.state = state\n",
    "        self.zip_code = zip_code\n",
    "        self.balance = balance\n",
    "        self.sex = sex\n",
    "        self.full_name = self.first_name + ' ' + self.last_name\n",
    "        self.address = self.street_address + ' ' + \\\n",
    "        self.city + ' ' + self.state + ' ' + self.city + ' ' + self.zip_code\n",
    "        \n",
    "    def deposit(self, amount):\n",
    "        \n",
    "        self.balance = self.balance + amount\n",
    "        \n",
    "        print(f'Your balance: {self.balance}.')\n",
    "        \n",
    "    def withdraw(self, amount):\n",
    "        \n",
    "        if self.balance >= amount:\n",
    "            \n",
    "            self.balance = self.balance - amount\n",
    "            \n",
    "            print(f'Your balance: {self.balance}.')\n",
    "        \n",
    "        else:\n",
    "            \n",
    "            print(f'You do not have the funds to process this transaction.\\n\\nYour balance: {self.balance}')\n",
    "        \n",
    "        if self.balance < 100:\n",
    "            print(f'You have a low balance of {self.balance}.')\n",
    "        \n",
    "    def transfer(self, beneficiary, amount):\n",
    "        \n",
    "        if self.balance >= amount:\n",
    "            \n",
    "            self.balance = self.balance - amount\n",
    "            beneficiary.balance = beneficiary.balance + amount\n",
    "            \n",
    "            print(f'Your balance: {self.balance}.')\n",
    "            \n",
    "            print(f\"{beneficiary.first_name}'s balance: {beneficiary.balance}\")\n",
    "            \n",
    "        else:\n",
    "            \n",
    "            print(f'You do not have the funds to process this transaction.\\n\\nYour balance: {self.balance}.')\n",
    "            \n",
    "        if self.balance < 100:\n",
    "            print(f'You have a low balance of {self.balance}.')"
   ]
  },
  {
   "cell_type": "code",
   "execution_count": 279,
   "metadata": {},
   "outputs": [],
   "source": [
    "john = bank_account_info('John', 'Kennedy', '22 Cyrus St', 'Facade', 'NH', '28939', 15000, 'M')"
   ]
  },
  {
   "cell_type": "code",
   "execution_count": 280,
   "metadata": {},
   "outputs": [],
   "source": [
    "tim = bank_account_info('Timothy', 'Miller', '109 Storm Ave', 'Chicopee', 'SC', '29859', 30000, 'M')"
   ]
  },
  {
   "cell_type": "code",
   "execution_count": 281,
   "metadata": {},
   "outputs": [],
   "source": [
    "sally = bank_account_info('Sally', 'Storm', '8 Bonner Street', 'Simpsonville', 'NY', '28590', 45, 'F')"
   ]
  },
  {
   "cell_type": "code",
   "execution_count": 282,
   "metadata": {},
   "outputs": [
    {
     "data": {
      "text/plain": [
       "15000"
      ]
     },
     "execution_count": 282,
     "metadata": {},
     "output_type": "execute_result"
    }
   ],
   "source": [
    "john.balance"
   ]
  },
  {
   "cell_type": "code",
   "execution_count": 283,
   "metadata": {},
   "outputs": [
    {
     "name": "stdout",
     "output_type": "stream",
     "text": [
      "You do not have the funds to process this transaction.\n",
      "\n",
      "Your balance: 15000.\n"
     ]
    }
   ],
   "source": [
    "john.transfer(tim, 20000)"
   ]
  },
  {
   "cell_type": "code",
   "execution_count": 284,
   "metadata": {},
   "outputs": [
    {
     "name": "stdout",
     "output_type": "stream",
     "text": [
      "Your balance: 13000.\n",
      "Timothy's balance: 32000\n"
     ]
    }
   ],
   "source": [
    "john.transfer(tim, 2000)"
   ]
  },
  {
   "cell_type": "code",
   "execution_count": 285,
   "metadata": {},
   "outputs": [
    {
     "name": "stdout",
     "output_type": "stream",
     "text": [
      "Your balance: 12000.\n"
     ]
    }
   ],
   "source": [
    "tim.withdraw(20000)"
   ]
  },
  {
   "cell_type": "code",
   "execution_count": 286,
   "metadata": {},
   "outputs": [
    {
     "name": "stdout",
     "output_type": "stream",
     "text": [
      "Your balance: 32000.\n"
     ]
    }
   ],
   "source": [
    "tim.deposit(20000)"
   ]
  },
  {
   "cell_type": "code",
   "execution_count": 287,
   "metadata": {},
   "outputs": [
    {
     "name": "stdout",
     "output_type": "stream",
     "text": [
      "You do not have the funds to process this transaction.\n",
      "\n",
      "Your balance: 32000\n"
     ]
    }
   ],
   "source": [
    "tim.withdraw(40000)"
   ]
  },
  {
   "cell_type": "code",
   "execution_count": 288,
   "metadata": {},
   "outputs": [
    {
     "data": {
      "text/plain": [
       "45"
      ]
     },
     "execution_count": 288,
     "metadata": {},
     "output_type": "execute_result"
    }
   ],
   "source": [
    "sally.balance"
   ]
  },
  {
   "cell_type": "code",
   "execution_count": 289,
   "metadata": {},
   "outputs": [
    {
     "name": "stdout",
     "output_type": "stream",
     "text": [
      "Your balance: 25.\n",
      "You have a low balance of 25.\n"
     ]
    }
   ],
   "source": [
    "sally.withdraw(20)"
   ]
  },
  {
   "cell_type": "code",
   "execution_count": 290,
   "metadata": {},
   "outputs": [
    {
     "data": {
      "text/plain": [
       "'Sally Storm'"
      ]
     },
     "execution_count": 290,
     "metadata": {},
     "output_type": "execute_result"
    }
   ],
   "source": [
    "sally.full_name"
   ]
  },
  {
   "cell_type": "code",
   "execution_count": 291,
   "metadata": {},
   "outputs": [
    {
     "data": {
      "text/plain": [
       "'8 Bonner Street Simpsonville NY Simpsonville 28590'"
      ]
     },
     "execution_count": 291,
     "metadata": {},
     "output_type": "execute_result"
    }
   ],
   "source": [
    "sally.address"
   ]
  },
  {
   "cell_type": "code",
   "execution_count": null,
   "metadata": {},
   "outputs": [],
   "source": []
  }
 ],
 "metadata": {
  "kernelspec": {
   "display_name": "Python 3",
   "language": "python",
   "name": "python3"
  },
  "language_info": {
   "codemirror_mode": {
    "name": "ipython",
    "version": 3
   },
   "file_extension": ".py",
   "mimetype": "text/x-python",
   "name": "python",
   "nbconvert_exporter": "python",
   "pygments_lexer": "ipython3",
   "version": "3.7.4"
  }
 },
 "nbformat": 4,
 "nbformat_minor": 2
}
