{
 "cells": [
  {
   "cell_type": "markdown",
   "metadata": {},
   "source": [
    "__Discovering the Mearuments of the Sphere. <br />\n",
    "FYI... if you want to calculate the measurements of the Earth, the radius is 3,959 miles.__"
   ]
  },
  {
   "cell_type": "code",
   "execution_count": 1,
   "metadata": {},
   "outputs": [
    {
     "name": "stdout",
     "output_type": "stream",
     "text": [
      "Please enter the radius of the sphere.5\n",
      "Please identify the unit of measurementmiles\n",
      "\n",
      "\n",
      "The volume of the sphere is 523.6 miles cubed.\n",
      "The circumference of the sphere is 31.42 miles(s).\n",
      "The surface area of the sphere is 314.16 miles squared\n"
     ]
    }
   ],
   "source": [
    "import math as m\n",
    "pi = m.pi\n",
    "\n",
    "def sphere():\n",
    "    r = int(input('Please enter the radius of the sphere.'))\n",
    "    uom = input('Please identify the unit of measurement')\n",
    "    \n",
    "    v = round((4/3)*pi*r**3,2)\n",
    "    c = round(2*pi*r,2)\n",
    "    sa = round(4*pi*r**2,2)\n",
    "    \n",
    "    print('\\n')\n",
    "    \n",
    "    print(f'The volume of the sphere is {v} {uom} cubed.')\n",
    "    print(f'The circumference of the sphere is {c} {uom}(s).')\n",
    "    print(f'The surface area of the sphere is {sa} {uom} squared')\n",
    "    \n",
    "sphere()"
   ]
  },
  {
   "cell_type": "markdown",
   "metadata": {},
   "source": [
    "__Hypotenuse Discovery__"
   ]
  },
  {
   "cell_type": "code",
   "execution_count": 3,
   "metadata": {},
   "outputs": [
    {
     "name": "stdout",
     "output_type": "stream",
     "text": [
      "What is the measurement of the first leg?9\n",
      "What is the measurement of the second leg?6\n",
      "Please provide the unit of measurement.kilometers\n",
      "10.816653826391969 kilometers\n"
     ]
    }
   ],
   "source": [
    "import math\n",
    "\n",
    "def hypotenuse():\n",
    "    leg1 = int(input('What is the measurement of the first leg?'))\n",
    "    leg2 = int(input('What is the measurement of the second leg?'))\n",
    "    uom = input('Please provide the unit of measurement.')\n",
    "    print(f'{math.sqrt(leg1**2 + leg2**2)} {uom}')\n",
    "    \n",
    "hypotenuse()"
   ]
  },
  {
   "cell_type": "markdown",
   "metadata": {},
   "source": [
    "__Temperature Converter__"
   ]
  },
  {
   "cell_type": "code",
   "execution_count": 10,
   "metadata": {},
   "outputs": [
    {
     "name": "stdout",
     "output_type": "stream",
     "text": [
      "what would you like to convert? \n",
      "Type 1 to convert from Celcius to Fahrenheit. \n",
      "Type 2 to convert from Fahrenheit to Celsius!2\n",
      "How many Fahrenheit?108\n",
      "42.22222222222222° Celcius\n"
     ]
    }
   ],
   "source": [
    "def formula():\n",
    "    choice = input('what would you like to convert? \\nType 1 to convert from Celcius to Fahrenheit. \\nType 2 to convert from Fahrenheit to Celsius!')\n",
    "    if choice == '1':\n",
    "        C = input('How many Celcius?')\n",
    "        print(str((int(C)*1.8)+32)+'° Fahrenheit')\n",
    "    elif choice == '2':\n",
    "        F = input('How many Fahrenheit?')\n",
    "        print(str((int(F) - 32)/1.8)+'° Celcius')\n",
    "    else:\n",
    "        print('\\nAn error has occurred, try again.')\n",
    "        return formula()\n",
    "\n",
    "formula()"
   ]
  },
  {
   "cell_type": "markdown",
   "metadata": {},
   "source": [
    "__Calculating Y in the Linear Equation__"
   ]
  },
  {
   "cell_type": "code",
   "execution_count": 11,
   "metadata": {},
   "outputs": [
    {
     "name": "stdout",
     "output_type": "stream",
     "text": [
      "FINDING Y IN THE LINEAR EQUATION\n",
      "LINEAR EQUATION: Y = MX + B\n",
      "Enter the value of the slope.2\n",
      "Enter the value of the x10\n",
      "Enter the value of the y-intercept.2\n",
      "22 = 2 x 10 + 2\n",
      "22 is the value of the Y.\n"
     ]
    }
   ],
   "source": [
    "def linear_equation():\n",
    "    print('FINDING Y IN THE LINEAR EQUATION')\n",
    "    print('LINEAR EQUATION: Y = MX + B')\n",
    "    try:\n",
    "        m = int(input('Enter the value of the slope.'))\n",
    "        x = int(input('Enter the value of the x'))\n",
    "        b = int(input('Enter the value of the y-intercept.'))\n",
    "        y = m*x+b\n",
    "    except:\n",
    "        print('An error has occurred, Try Again!')\n",
    "        linear_equation()\n",
    "    else:\n",
    "        print(f'{y} = {m} x {x} + {b}')\n",
    "        print(f'{y} is the value of the Y.')\n",
    "linear_equation()"
   ]
  },
  {
   "cell_type": "markdown",
   "metadata": {},
   "source": [
    "__Rank the Brand of Chips on a Scale of 1 to 5__"
   ]
  },
  {
   "cell_type": "code",
   "execution_count": 12,
   "metadata": {},
   "outputs": [
    {
     "name": "stdout",
     "output_type": "stream",
     "text": [
      "\n",
      "How would you rank the brand Cheetos?4\n",
      "How would you rank the brand Lays?3\n",
      "How would you rank the brand Doritos?5\n",
      "How would you rank the brand Sun Chips?5\n",
      "How would you rank the brand Tostitoes?2\n",
      "How would you rank the brand Cape Cod?4\n",
      "\n",
      "\n",
      "Cheetos is a good brand, with a rank of 4.\n",
      "Lays is an... okay brand, with a rank of 3.\n",
      "Doritos is a good brand, with a rank of 5.\n",
      "Sun Chips is a good brand, with a rank of 5.\n",
      "Tostitoes is a poor brand, with a rank of 2.\n",
      "Cape Cod is a good brand, with a rank of 4.\n"
     ]
    }
   ],
   "source": [
    "brand = ['Cheetos', 'Lays', 'Doritos', 'Sun Chips', 'Tostitoes', 'Cape Cod']\n",
    "rank = []\n",
    "\n",
    "print('')\n",
    "def hello(name = 'Jose'):\n",
    "    pos_1 = 0\n",
    "    for b in brand:\n",
    "        given_rank = int(input(f'How would you rank the brand {brand[pos_1]}?'))\n",
    "        rank.append(given_rank)\n",
    "        pos_1 = pos_1 + 1\n",
    "    position = 0\n",
    "    print('\\n')\n",
    "    for i in zip(brand, rank):\n",
    "        if rank[position] >= 4 and rank[position] <= 5:\n",
    "            print(f'{i[0]} is a good brand, with a rank of {i[1]}.')\n",
    "            position = position + 1\n",
    "        elif rank[position] == 3:\n",
    "            print(f'{i[0]} is an... okay brand, with a rank of {i[1]}.')\n",
    "            position = position + 1\n",
    "        elif rank[position] >= 1 and rank[position] <= 2:\n",
    "            print(f'{i[0]} is a poor brand, with a rank of {i[1]}.')\n",
    "            position = position + 1\n",
    "        else:\n",
    "            print('an error occured')\n",
    "        \n",
    "hello()"
   ]
  }
 ],
 "metadata": {
  "kernelspec": {
   "display_name": "Python 3",
   "language": "python",
   "name": "python3"
  },
  "language_info": {
   "codemirror_mode": {
    "name": "ipython",
    "version": 3
   },
   "file_extension": ".py",
   "mimetype": "text/x-python",
   "name": "python",
   "nbconvert_exporter": "python",
   "pygments_lexer": "ipython3",
   "version": "3.7.4"
  }
 },
 "nbformat": 4,
 "nbformat_minor": 2
}
